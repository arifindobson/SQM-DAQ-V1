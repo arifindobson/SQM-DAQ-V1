{
 "cells": [
  {
   "cell_type": "code",
   "execution_count": 1,
   "metadata": {},
   "outputs": [],
   "source": [
    "import folium\n",
    "import pandas as pd\n",
    "from folium.plugins import MarkerCluster\n",
    "import matplotlib.pyplot as plt"
   ]
  },
  {
   "cell_type": "code",
   "execution_count": 2,
   "metadata": {},
   "outputs": [
    {
     "data": {
      "text/html": [
       "<div>\n",
       "<style scoped>\n",
       "    .dataframe tbody tr th:only-of-type {\n",
       "        vertical-align: middle;\n",
       "    }\n",
       "\n",
       "    .dataframe tbody tr th {\n",
       "        vertical-align: top;\n",
       "    }\n",
       "\n",
       "    .dataframe thead th {\n",
       "        text-align: right;\n",
       "    }\n",
       "</style>\n",
       "<table border=\"1\" class=\"dataframe\">\n",
       "  <thead>\n",
       "    <tr style=\"text-align: right;\">\n",
       "      <th></th>\n",
       "      <th>Waktu</th>\n",
       "      <th>Kecerahan</th>\n",
       "      <th>Temperature</th>\n",
       "      <th>Latitude</th>\n",
       "      <th>Longtitude</th>\n",
       "    </tr>\n",
       "  </thead>\n",
       "  <tbody>\n",
       "    <tr>\n",
       "      <th>0</th>\n",
       "      <td>4.722867</td>\n",
       "      <td>9.4</td>\n",
       "      <td>29.299999</td>\n",
       "      <td>-6.860997</td>\n",
       "      <td>107.575356</td>\n",
       "    </tr>\n",
       "    <tr>\n",
       "      <th>1</th>\n",
       "      <td>14.767959</td>\n",
       "      <td>9.5</td>\n",
       "      <td>29.600000</td>\n",
       "      <td>-6.860997</td>\n",
       "      <td>107.575356</td>\n",
       "    </tr>\n",
       "    <tr>\n",
       "      <th>2</th>\n",
       "      <td>24.759052</td>\n",
       "      <td>9.5</td>\n",
       "      <td>29.299999</td>\n",
       "      <td>-6.860997</td>\n",
       "      <td>107.575355</td>\n",
       "    </tr>\n",
       "    <tr>\n",
       "      <th>3</th>\n",
       "      <td>34.753064</td>\n",
       "      <td>9.5</td>\n",
       "      <td>29.600000</td>\n",
       "      <td>-6.860997</td>\n",
       "      <td>107.575354</td>\n",
       "    </tr>\n",
       "    <tr>\n",
       "      <th>4</th>\n",
       "      <td>44.746738</td>\n",
       "      <td>9.5</td>\n",
       "      <td>29.600000</td>\n",
       "      <td>-6.860996</td>\n",
       "      <td>107.575353</td>\n",
       "    </tr>\n",
       "  </tbody>\n",
       "</table>\n",
       "</div>"
      ],
      "text/plain": [
       "       Waktu  Kecerahan  Temperature  Latitude  Longtitude\n",
       "0   4.722867        9.4    29.299999 -6.860997  107.575356\n",
       "1  14.767959        9.5    29.600000 -6.860997  107.575356\n",
       "2  24.759052        9.5    29.299999 -6.860997  107.575355\n",
       "3  34.753064        9.5    29.600000 -6.860997  107.575354\n",
       "4  44.746738        9.5    29.600000 -6.860996  107.575353"
      ]
     },
     "execution_count": 2,
     "metadata": {},
     "output_type": "execute_result"
    }
   ],
   "source": [
    "df = pd.read_csv('./dataSQM/ciwarugaData.csv')\n",
    "df.head()"
   ]
  },
  {
   "cell_type": "code",
   "execution_count": 3,
   "metadata": {},
   "outputs": [
    {
     "data": {
      "text/plain": [
       "1    9.5\n",
       "2    9.5\n",
       "3    9.5\n",
       "4    9.5\n",
       "Name: Kecerahan, dtype: float64"
      ]
     },
     "execution_count": 3,
     "metadata": {},
     "output_type": "execute_result"
    }
   ],
   "source": [
    "df[\"Kecerahan\"][1:5]"
   ]
  },
  {
   "cell_type": "code",
   "execution_count": 4,
   "metadata": {},
   "outputs": [
    {
     "data": {
      "text/html": [
       "<div>\n",
       "<style scoped>\n",
       "    .dataframe tbody tr th:only-of-type {\n",
       "        vertical-align: middle;\n",
       "    }\n",
       "\n",
       "    .dataframe tbody tr th {\n",
       "        vertical-align: top;\n",
       "    }\n",
       "\n",
       "    .dataframe thead th {\n",
       "        text-align: right;\n",
       "    }\n",
       "</style>\n",
       "<table border=\"1\" class=\"dataframe\">\n",
       "  <thead>\n",
       "    <tr style=\"text-align: right;\">\n",
       "      <th></th>\n",
       "      <th>Waktu</th>\n",
       "      <th>Kecerahan</th>\n",
       "      <th>Temperature</th>\n",
       "      <th>Latitude</th>\n",
       "      <th>Longtitude</th>\n",
       "    </tr>\n",
       "  </thead>\n",
       "  <tbody>\n",
       "    <tr>\n",
       "      <th>0</th>\n",
       "      <td>6.336443</td>\n",
       "      <td>16.100000</td>\n",
       "      <td>23.799999</td>\n",
       "      <td>-6.923718</td>\n",
       "      <td>107.629217</td>\n",
       "    </tr>\n",
       "    <tr>\n",
       "      <th>1</th>\n",
       "      <td>16.330666</td>\n",
       "      <td>15.900000</td>\n",
       "      <td>23.799999</td>\n",
       "      <td>-6.953375</td>\n",
       "      <td>107.627381</td>\n",
       "    </tr>\n",
       "    <tr>\n",
       "      <th>2</th>\n",
       "      <td>26.325052</td>\n",
       "      <td>16.299999</td>\n",
       "      <td>23.799999</td>\n",
       "      <td>-6.953408</td>\n",
       "      <td>107.627416</td>\n",
       "    </tr>\n",
       "    <tr>\n",
       "      <th>3</th>\n",
       "      <td>36.318787</td>\n",
       "      <td>16.000000</td>\n",
       "      <td>23.799999</td>\n",
       "      <td>-6.953417</td>\n",
       "      <td>107.627443</td>\n",
       "    </tr>\n",
       "    <tr>\n",
       "      <th>4</th>\n",
       "      <td>46.359086</td>\n",
       "      <td>14.300000</td>\n",
       "      <td>23.799999</td>\n",
       "      <td>-6.953413</td>\n",
       "      <td>107.627440</td>\n",
       "    </tr>\n",
       "  </tbody>\n",
       "</table>\n",
       "</div>"
      ],
      "text/plain": [
       "       Waktu  Kecerahan  Temperature  Latitude  Longtitude\n",
       "0   6.336443  16.100000    23.799999 -6.923718  107.629217\n",
       "1  16.330666  15.900000    23.799999 -6.953375  107.627381\n",
       "2  26.325052  16.299999    23.799999 -6.953408  107.627416\n",
       "3  36.318787  16.000000    23.799999 -6.953417  107.627443\n",
       "4  46.359086  14.300000    23.799999 -6.953413  107.627440"
      ]
     },
     "execution_count": 4,
     "metadata": {},
     "output_type": "execute_result"
    }
   ],
   "source": [
    "df1 = pd.read_csv('./dataSQM/bngData.csv')\n",
    "df1.head()"
   ]
  },
  {
   "cell_type": "code",
   "execution_count": 5,
   "metadata": {},
   "outputs": [
    {
     "data": {
      "text/html": [
       "<div>\n",
       "<style scoped>\n",
       "    .dataframe tbody tr th:only-of-type {\n",
       "        vertical-align: middle;\n",
       "    }\n",
       "\n",
       "    .dataframe tbody tr th {\n",
       "        vertical-align: top;\n",
       "    }\n",
       "\n",
       "    .dataframe thead th {\n",
       "        text-align: right;\n",
       "    }\n",
       "</style>\n",
       "<table border=\"1\" class=\"dataframe\">\n",
       "  <thead>\n",
       "    <tr style=\"text-align: right;\">\n",
       "      <th></th>\n",
       "      <th>Waktu</th>\n",
       "      <th>Kecerahan</th>\n",
       "      <th>Temperature</th>\n",
       "      <th>Latitude</th>\n",
       "      <th>Longtitude</th>\n",
       "    </tr>\n",
       "  </thead>\n",
       "  <tbody>\n",
       "    <tr>\n",
       "      <th>0</th>\n",
       "      <td>8.125297</td>\n",
       "      <td>17.299999</td>\n",
       "      <td>28.600000</td>\n",
       "      <td>-6.925284</td>\n",
       "      <td>107.630834</td>\n",
       "    </tr>\n",
       "    <tr>\n",
       "      <th>1</th>\n",
       "      <td>18.113774</td>\n",
       "      <td>17.299999</td>\n",
       "      <td>28.299999</td>\n",
       "      <td>-6.925301</td>\n",
       "      <td>107.630913</td>\n",
       "    </tr>\n",
       "    <tr>\n",
       "      <th>2</th>\n",
       "      <td>28.149226</td>\n",
       "      <td>17.100000</td>\n",
       "      <td>28.600000</td>\n",
       "      <td>-6.925317</td>\n",
       "      <td>107.630985</td>\n",
       "    </tr>\n",
       "    <tr>\n",
       "      <th>3</th>\n",
       "      <td>38.139853</td>\n",
       "      <td>14.900000</td>\n",
       "      <td>28.299999</td>\n",
       "      <td>-6.925331</td>\n",
       "      <td>107.631067</td>\n",
       "    </tr>\n",
       "    <tr>\n",
       "      <th>4</th>\n",
       "      <td>48.128930</td>\n",
       "      <td>16.200001</td>\n",
       "      <td>28.600000</td>\n",
       "      <td>-6.925372</td>\n",
       "      <td>107.631176</td>\n",
       "    </tr>\n",
       "  </tbody>\n",
       "</table>\n",
       "</div>"
      ],
      "text/plain": [
       "       Waktu  Kecerahan  Temperature  Latitude  Longtitude\n",
       "0   8.125297  17.299999    28.600000 -6.925284  107.630834\n",
       "1  18.113774  17.299999    28.299999 -6.925301  107.630913\n",
       "2  28.149226  17.100000    28.600000 -6.925317  107.630985\n",
       "3  38.139853  14.900000    28.299999 -6.925331  107.631067\n",
       "4  48.128930  16.200001    28.600000 -6.925372  107.631176"
      ]
     },
     "execution_count": 5,
     "metadata": {},
     "output_type": "execute_result"
    }
   ],
   "source": [
    "df2 = pd.read_csv('./dataSQM/gatsuData.csv')\n",
    "df2.head()"
   ]
  },
  {
   "cell_type": "code",
   "execution_count": 18,
   "metadata": {},
   "outputs": [],
   "source": [
    "m = folium.Map(location=[-2.003589,113.756127], zoom_start=5) #sudah cukup mengcover indonesia\n",
    "\n",
    "pengukuran1 = MarkerCluster().add_to(m)\n",
    "pengukuran2 = MarkerCluster().add_to(m)\n",
    "pengukuran3 = MarkerCluster().add_to(m)\n",
    "\n",
    "# for index, row in df.iterrows():\n",
    "#     folium.Marker([row['Latitude'], row['Longtitude']], \n",
    "#                   popup=row['Kecerahan'],\n",
    "#                   icon=folium.Icon(icon='cloud')).add_to(pengukuran1)\n",
    "\n",
    "folium.Marker([df['Latitude'][5], df['Longtitude'][5]], \n",
    "                  popup=\"Survey 2\",\n",
    "                  icon=folium.Icon(icon='cloud')).add_to(pengukuran1)\n",
    "\n",
    "for index, row in df1.iterrows():\n",
    "    folium.Marker([row['Latitude'], row['Longtitude']], \n",
    "                  popup=\"Survey 2\"+\"\\n Temperatur:\"\n",
    "                          +str(int(row['Temperature'])) +\"\\n Kecerahan: \"\n",
    "                          +str(row['Kecerahan']),\n",
    "                  icon=folium.Icon(icon='cloud')).add_to(pengukuran2)\n",
    "    \n",
    "for index, row in df2.iterrows():\n",
    "    folium.Marker([row['Latitude'], row['Longtitude']], \n",
    "                  popup=\"Survey 2\"+\"\\n\"+str(row['Temperature'])+\"\\n\"+str(row['Kecerahan']),\n",
    "                  icon=folium.Icon(icon='cloud')).add_to(pengukuran3)"
   ]
  },
  {
   "cell_type": "code",
   "execution_count": 19,
   "metadata": {},
   "outputs": [],
   "source": [
    "m.save(\"./index3.html\")"
   ]
  },
  {
   "cell_type": "code",
   "execution_count": 8,
   "metadata": {},
   "outputs": [
    {
     "data": {
      "text/html": [
       "<div>\n",
       "<style scoped>\n",
       "    .dataframe tbody tr th:only-of-type {\n",
       "        vertical-align: middle;\n",
       "    }\n",
       "\n",
       "    .dataframe tbody tr th {\n",
       "        vertical-align: top;\n",
       "    }\n",
       "\n",
       "    .dataframe thead th {\n",
       "        text-align: right;\n",
       "    }\n",
       "</style>\n",
       "<table border=\"1\" class=\"dataframe\">\n",
       "  <thead>\n",
       "    <tr style=\"text-align: right;\">\n",
       "      <th></th>\n",
       "      <th>time</th>\n",
       "      <th>magnitude</th>\n",
       "      <th>temperature</th>\n",
       "      <th>frequency</th>\n",
       "    </tr>\n",
       "  </thead>\n",
       "  <tbody>\n",
       "    <tr>\n",
       "      <th>0</th>\n",
       "      <td>2021-04-18 01:00:00 +07:00</td>\n",
       "      <td>18.19</td>\n",
       "      <td>023.2</td>\n",
       "      <td>0000000004</td>\n",
       "    </tr>\n",
       "    <tr>\n",
       "      <th>1</th>\n",
       "      <td>2021-04-18 01:00:05 +07:00</td>\n",
       "      <td>18.19</td>\n",
       "      <td>023.2</td>\n",
       "      <td>0000000005</td>\n",
       "    </tr>\n",
       "    <tr>\n",
       "      <th>2</th>\n",
       "      <td>2021-04-18 01:00:10 +07:00</td>\n",
       "      <td>18.19</td>\n",
       "      <td>023.2</td>\n",
       "      <td>0000000005</td>\n",
       "    </tr>\n",
       "    <tr>\n",
       "      <th>3</th>\n",
       "      <td>2021-04-18 01:00:15 +07:00</td>\n",
       "      <td>18.19</td>\n",
       "      <td>023.2</td>\n",
       "      <td>0000000004</td>\n",
       "    </tr>\n",
       "    <tr>\n",
       "      <th>4</th>\n",
       "      <td>2021-04-18 01:00:20 +07:00</td>\n",
       "      <td>18.19</td>\n",
       "      <td>023.2</td>\n",
       "      <td>0000000005</td>\n",
       "    </tr>\n",
       "  </tbody>\n",
       "</table>\n",
       "</div>"
      ],
      "text/plain": [
       "                         time magnitude temperature   frequency\n",
       "0  2021-04-18 01:00:00 +07:00     18.19       023.2  0000000004\n",
       "1  2021-04-18 01:00:05 +07:00     18.19       023.2  0000000005\n",
       "2  2021-04-18 01:00:10 +07:00     18.19       023.2  0000000005\n",
       "3  2021-04-18 01:00:15 +07:00     18.19       023.2  0000000004\n",
       "4  2021-04-18 01:00:20 +07:00     18.19       023.2  0000000005"
      ]
     },
     "execution_count": 8,
     "metadata": {},
     "output_type": "execute_result"
    }
   ],
   "source": [
    "#Data Imahnoong\n",
    "url = \"http://twro.kabarlangit.com/data/20210418_imahnoong/2021-04-18_SQMdata.csv\"\n",
    "\n",
    "dfi = pd.read_csv(url)\n",
    "dfi.head()"
   ]
  },
  {
   "cell_type": "markdown",
   "metadata": {},
   "source": [
    "# Gambar Grafik"
   ]
  },
  {
   "cell_type": "code",
   "execution_count": 9,
   "metadata": {},
   "outputs": [
    {
     "data": {
      "image/png": "[encoded data removed]",
      "text/plain": [
       "<Figure size 720x504 with 1 Axes>"
      ]
     },
     "metadata": {
      "needs_background": "light"
     },
     "output_type": "display_data"
    }
   ],
   "source": [
    "plt.rcParams[\"figure.figsize\"] = (10,7)\n",
    "\n",
    "plt.plot(df[\"Waktu\"],df[\"Kecerahan\"],'.',label=\"Survey 1\")\n",
    "plt.plot(df1[\"Waktu\"],df1[\"Kecerahan\"],'.',label=\"Survey 2\")\n",
    "plt.plot(df2[\"Waktu\"],df2[\"Kecerahan\"],'.',label=\"Survey 3\")\n",
    "\n",
    "#plt.plot(dfi[\"magnitude\"],'.',label=\"Survey ImahNong\")\n",
    "\n",
    "plt.title(\"Pengamatan Keceragan Langit Kota Bandung\")\n",
    "\n",
    "plt.axhline(18.38,c='red',label=\"City Sky\")\n",
    "\n",
    "plt.axhline(20.49,c='magenta',label=\"Bright Suburban Sky\")\n",
    "\n",
    "\n",
    "plt.xlabel(\"Waktu (detik)\")\n",
    "\n",
    "plt.ylabel(\"Kecerahan (mpass)\")\n",
    "\n",
    "plt.legend()\n",
    "\n",
    "plt.grid()\n",
    "plt.show()"
   ]
  },
  {
   "cell_type": "code",
   "execution_count": null,
   "metadata": {},
   "outputs": [],
   "source": []
  },
  {
   "cell_type": "code",
   "execution_count": null,
   "metadata": {},
   "outputs": [],
   "source": []
  },
  {
   "cell_type": "code",
   "execution_count": null,
   "metadata": {},
   "outputs": [],
   "source": []
  }
 ],
 "metadata": {
  "kernelspec": {
   "display_name": "Python 3",
   "language": "python",
   "name": "python3"
  },
  "language_info": {
   "codemirror_mode": {
    "name": "ipython",
    "version": 3
   },
   "file_extension": ".py",
   "mimetype": "text/x-python",
   "name": "python",
   "nbconvert_exporter": "python",
   "pygments_lexer": "ipython3",
   "version": "3.8.5"
  }
 },
 "nbformat": 4,
 "nbformat_minor": 4
}
